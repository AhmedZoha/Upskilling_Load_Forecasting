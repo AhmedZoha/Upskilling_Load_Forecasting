{
 "cells": [
  {
   "cell_type": "markdown",
   "metadata": {
    "id": "pU09XtraWNsz"
   },
   "source": [
    "# Short term Load Forcasting (Regression Machine Learning)"
   ]
  },
  {
   "cell_type": "markdown",
   "metadata": {
    "id": "3VcZ23QIWNs1"
   },
   "source": [
    "You have been provided with **Load Forecasting** data set as a single file, `dataset.csv`. \n",
    "\n",
    "We obtained it at http://www.mathworks.com/videos/electricity-load-and-price-forecasting-with-matlab-81765.html. \n",
    "\n",
    "For some background information you can also watch the video tutorial given in the link above:\n",
    "\n",
    "Before you start on this notebook, copy the datasetset `dataset.csv` in the same directory."
   ]
  },
  {
   "cell_type": "markdown",
   "metadata": {
    "id": "CAi_QvBPWNs2"
   },
   "source": [
    "### 1. Set up notebook and load dataset"
   ]
  },
  {
   "cell_type": "code",
   "execution_count": 1,
   "metadata": {
    "id": "8ZO5S3XoWNs3"
   },
   "outputs": [
    {
     "name": "stdout",
     "output_type": "stream",
     "text": [
      "Collecting wget==3.2\n",
      "  Downloading wget-3.2.zip (10 kB)\n",
      "  Preparing metadata (setup.py) ... \u001b[?25ldone\n",
      "\u001b[?25hCollecting pandas==1.1.5\n",
      "  Downloading pandas-1.1.5-cp37-cp37m-manylinux1_x86_64.whl (9.5 MB)\n",
      "\u001b[2K     \u001b[90m━━━━━━━━━━━━━━━━━━━━━━━━━━━━━━━━━━━━━━━━\u001b[0m \u001b[32m9.5/9.5 MB\u001b[0m \u001b[31m18.2 MB/s\u001b[0m eta \u001b[36m0:00:00\u001b[0m00:01\u001b[0m00:01\u001b[0m\n",
      "\u001b[?25hCollecting numpy==1.21.2\n",
      "  Downloading numpy-1.21.2-cp37-cp37m-manylinux_2_12_x86_64.manylinux2010_x86_64.whl (15.7 MB)\n",
      "\u001b[2K     \u001b[90m━━━━━━━━━━━━━━━━━━━━━━━━━━━━━━━━━━━━━━━━\u001b[0m \u001b[32m15.7/15.7 MB\u001b[0m \u001b[31m14.6 MB/s\u001b[0m eta \u001b[36m0:00:00\u001b[0m00:01\u001b[0m00:01\u001b[0m\n",
      "\u001b[?25hCollecting watermark==2.3.1\n",
      "  Downloading watermark-2.3.1-py2.py3-none-any.whl (7.2 kB)\n",
      "Collecting sklearn\n",
      "  Downloading sklearn-0.0.tar.gz (1.1 kB)\n",
      "  Preparing metadata (setup.py) ... \u001b[?25ldone\n",
      "\u001b[?25hCollecting matplotlib==3.3.4\n",
      "  Downloading matplotlib-3.3.4-cp37-cp37m-manylinux1_x86_64.whl (11.5 MB)\n",
      "\u001b[2K     \u001b[90m━━━━━━━━━━━━━━━━━━━━━━━━━━━━━━━━━━━━━━━━\u001b[0m \u001b[32m11.5/11.5 MB\u001b[0m \u001b[31m15.6 MB/s\u001b[0m eta \u001b[36m0:00:00\u001b[0m00:01\u001b[0m00:01\u001b[0m\n",
      "\u001b[?25hCollecting keras==2.9.0\n",
      "  Downloading keras-2.9.0-py2.py3-none-any.whl (1.6 MB)\n",
      "\u001b[2K     \u001b[90m━━━━━━━━━━━━━━━━━━━━━━━━━━━━━━━━━━━━━━━━\u001b[0m \u001b[32m1.6/1.6 MB\u001b[0m \u001b[31m19.0 MB/s\u001b[0m eta \u001b[36m0:00:00\u001b[0ma \u001b[36m0:00:01\u001b[0m\n",
      "\u001b[?25hCollecting scikit-plot==0.3.7\n",
      "  Downloading scikit_plot-0.3.7-py3-none-any.whl (33 kB)\n",
      "Requirement already satisfied: nbconvert in /srv/conda/envs/notebook/lib/python3.7/site-packages (from -r requirement.txt (line 9)) (7.2.1)\n",
      "Requirement already satisfied: pytz>=2017.2 in /srv/conda/envs/notebook/lib/python3.7/site-packages (from pandas==1.1.5->-r requirement.txt (line 2)) (2022.4)\n",
      "Requirement already satisfied: python-dateutil>=2.7.3 in /srv/conda/envs/notebook/lib/python3.7/site-packages (from pandas==1.1.5->-r requirement.txt (line 2)) (2.8.2)\n",
      "Requirement already satisfied: importlib-metadata>=1.4 in /srv/conda/envs/notebook/lib/python3.7/site-packages (from watermark==2.3.1->-r requirement.txt (line 4)) (4.11.4)\n",
      "Requirement already satisfied: ipython in /srv/conda/envs/notebook/lib/python3.7/site-packages (from watermark==2.3.1->-r requirement.txt (line 4)) (7.33.0)\n",
      "Collecting kiwisolver>=1.0.1\n",
      "  Downloading kiwisolver-1.4.4-cp37-cp37m-manylinux_2_5_x86_64.manylinux1_x86_64.whl (1.1 MB)\n",
      "\u001b[2K     \u001b[90m━━━━━━━━━━━━━━━━━━━━━━━━━━━━━━━━━━━━━━━━\u001b[0m \u001b[32m1.1/1.1 MB\u001b[0m \u001b[31m18.7 MB/s\u001b[0m eta \u001b[36m0:00:00\u001b[0ma \u001b[36m0:00:01\u001b[0m\n",
      "\u001b[?25hRequirement already satisfied: pyparsing!=2.0.4,!=2.1.2,!=2.1.6,>=2.0.3 in /srv/conda/envs/notebook/lib/python3.7/site-packages (from matplotlib==3.3.4->-r requirement.txt (line 6)) (3.0.9)\n",
      "Collecting pillow>=6.2.0\n",
      "  Downloading Pillow-9.2.0-cp37-cp37m-manylinux_2_17_x86_64.manylinux2014_x86_64.whl (3.1 MB)\n",
      "\u001b[2K     \u001b[90m━━━━━━━━━━━━━━━━━━━━━━━━━━━━━━━━━━━━━━━━\u001b[0m \u001b[32m3.1/3.1 MB\u001b[0m \u001b[31m17.6 MB/s\u001b[0m eta \u001b[36m0:00:00\u001b[0ma \u001b[36m0:00:01\u001b[0m\n",
      "\u001b[?25hCollecting cycler>=0.10\n",
      "  Downloading cycler-0.11.0-py3-none-any.whl (6.4 kB)\n",
      "Collecting scipy>=0.9\n",
      "  Downloading scipy-1.7.3-cp37-cp37m-manylinux_2_12_x86_64.manylinux2010_x86_64.whl (38.1 MB)\n",
      "\u001b[2K     \u001b[90m━━━━━━━━━━━━━━━━━━━━━━━━━━━━━━━━━━━━━━━━\u001b[0m \u001b[32m38.1/38.1 MB\u001b[0m \u001b[31m7.2 MB/s\u001b[0m eta \u001b[36m0:00:00\u001b[0m:00:01\u001b[0m00:01\u001b[0m\n",
      "\u001b[?25hCollecting scikit-learn>=0.18\n",
      "  Downloading scikit_learn-1.0.2-cp37-cp37m-manylinux_2_17_x86_64.manylinux2014_x86_64.whl (24.8 MB)\n",
      "\u001b[2K     \u001b[90m━━━━━━━━━━━━━━━━━━━━━━━━━━━━━━━━━━━━━━━━\u001b[0m \u001b[32m24.8/24.8 MB\u001b[0m \u001b[31m16.5 MB/s\u001b[0m eta \u001b[36m0:00:00\u001b[0m00:01\u001b[0m00:01\u001b[0m\n",
      "\u001b[?25hCollecting joblib>=0.10\n",
      "  Downloading joblib-1.2.0-py3-none-any.whl (297 kB)\n",
      "\u001b[2K     \u001b[90m━━━━━━━━━━━━━━━━━━━━━━━━━━━━━━━━━━━━━━━\u001b[0m \u001b[32m298.0/298.0 kB\u001b[0m \u001b[31m5.1 MB/s\u001b[0m eta \u001b[36m0:00:00\u001b[0m00:01\u001b[0m\n",
      "\u001b[?25hRequirement already satisfied: beautifulsoup4 in /srv/conda/envs/notebook/lib/python3.7/site-packages (from nbconvert->-r requirement.txt (line 9)) (4.11.1)\n",
      "Requirement already satisfied: markupsafe>=2.0 in /srv/conda/envs/notebook/lib/python3.7/site-packages (from nbconvert->-r requirement.txt (line 9)) (2.1.1)\n",
      "Requirement already satisfied: jinja2>=3.0 in /srv/conda/envs/notebook/lib/python3.7/site-packages (from nbconvert->-r requirement.txt (line 9)) (3.1.2)\n",
      "Requirement already satisfied: nbclient>=0.5.0 in /srv/conda/envs/notebook/lib/python3.7/site-packages (from nbconvert->-r requirement.txt (line 9)) (0.7.0)\n",
      "Requirement already satisfied: jupyter-core>=4.7 in /srv/conda/envs/notebook/lib/python3.7/site-packages (from nbconvert->-r requirement.txt (line 9)) (4.11.1)\n",
      "Requirement already satisfied: pandocfilters>=1.4.1 in /srv/conda/envs/notebook/lib/python3.7/site-packages (from nbconvert->-r requirement.txt (line 9)) (1.5.0)\n",
      "Requirement already satisfied: pygments>=2.4.1 in /srv/conda/envs/notebook/lib/python3.7/site-packages (from nbconvert->-r requirement.txt (line 9)) (2.13.0)\n",
      "Requirement already satisfied: mistune<3,>=2.0.3 in /srv/conda/envs/notebook/lib/python3.7/site-packages (from nbconvert->-r requirement.txt (line 9)) (2.0.4)\n",
      "Requirement already satisfied: bleach in /srv/conda/envs/notebook/lib/python3.7/site-packages (from nbconvert->-r requirement.txt (line 9)) (5.0.1)\n",
      "Requirement already satisfied: nbformat>=5.1 in /srv/conda/envs/notebook/lib/python3.7/site-packages (from nbconvert->-r requirement.txt (line 9)) (5.7.0)\n",
      "Requirement already satisfied: tinycss2 in /srv/conda/envs/notebook/lib/python3.7/site-packages (from nbconvert->-r requirement.txt (line 9)) (1.1.1)\n",
      "Requirement already satisfied: traitlets>=5.0 in /srv/conda/envs/notebook/lib/python3.7/site-packages (from nbconvert->-r requirement.txt (line 9)) (5.4.0)\n",
      "Requirement already satisfied: jupyterlab-pygments in /srv/conda/envs/notebook/lib/python3.7/site-packages (from nbconvert->-r requirement.txt (line 9)) (0.2.2)\n",
      "Requirement already satisfied: packaging in /srv/conda/envs/notebook/lib/python3.7/site-packages (from nbconvert->-r requirement.txt (line 9)) (21.3)\n",
      "Requirement already satisfied: defusedxml in /srv/conda/envs/notebook/lib/python3.7/site-packages (from nbconvert->-r requirement.txt (line 9)) (0.7.1)\n",
      "Requirement already satisfied: zipp>=0.5 in /srv/conda/envs/notebook/lib/python3.7/site-packages (from importlib-metadata>=1.4->watermark==2.3.1->-r requirement.txt (line 4)) (3.9.0)\n",
      "Requirement already satisfied: typing-extensions>=3.6.4 in /srv/conda/envs/notebook/lib/python3.7/site-packages (from importlib-metadata>=1.4->watermark==2.3.1->-r requirement.txt (line 4)) (4.4.0)\n",
      "Requirement already satisfied: nest-asyncio in /srv/conda/envs/notebook/lib/python3.7/site-packages (from nbclient>=0.5.0->nbconvert->-r requirement.txt (line 9)) (1.5.6)\n",
      "Requirement already satisfied: jupyter-client>=6.1.5 in /srv/conda/envs/notebook/lib/python3.7/site-packages (from nbclient>=0.5.0->nbconvert->-r requirement.txt (line 9)) (7.4.2)\n",
      "Requirement already satisfied: fastjsonschema in /srv/conda/envs/notebook/lib/python3.7/site-packages (from nbformat>=5.1->nbconvert->-r requirement.txt (line 9)) (2.16.2)\n",
      "Requirement already satisfied: jsonschema>=2.6 in /srv/conda/envs/notebook/lib/python3.7/site-packages (from nbformat>=5.1->nbconvert->-r requirement.txt (line 9)) (4.16.0)\n",
      "Requirement already satisfied: six>=1.5 in /srv/conda/envs/notebook/lib/python3.7/site-packages (from python-dateutil>=2.7.3->pandas==1.1.5->-r requirement.txt (line 2)) (1.16.0)\n",
      "Collecting threadpoolctl>=2.0.0\n",
      "  Downloading threadpoolctl-3.1.0-py3-none-any.whl (14 kB)\n",
      "Requirement already satisfied: soupsieve>1.2 in /srv/conda/envs/notebook/lib/python3.7/site-packages (from beautifulsoup4->nbconvert->-r requirement.txt (line 9)) (2.3.2.post1)\n",
      "Requirement already satisfied: webencodings in /srv/conda/envs/notebook/lib/python3.7/site-packages (from bleach->nbconvert->-r requirement.txt (line 9)) (0.5.1)\n",
      "Requirement already satisfied: jedi>=0.16 in /srv/conda/envs/notebook/lib/python3.7/site-packages (from ipython->watermark==2.3.1->-r requirement.txt (line 4)) (0.18.1)\n",
      "Requirement already satisfied: decorator in /srv/conda/envs/notebook/lib/python3.7/site-packages (from ipython->watermark==2.3.1->-r requirement.txt (line 4)) (5.1.1)\n",
      "Requirement already satisfied: prompt-toolkit!=3.0.0,!=3.0.1,<3.1.0,>=2.0.0 in /srv/conda/envs/notebook/lib/python3.7/site-packages (from ipython->watermark==2.3.1->-r requirement.txt (line 4)) (3.0.31)\n",
      "Requirement already satisfied: pexpect>4.3 in /srv/conda/envs/notebook/lib/python3.7/site-packages (from ipython->watermark==2.3.1->-r requirement.txt (line 4)) (4.8.0)\n",
      "Requirement already satisfied: matplotlib-inline in /srv/conda/envs/notebook/lib/python3.7/site-packages (from ipython->watermark==2.3.1->-r requirement.txt (line 4)) (0.1.6)\n",
      "Requirement already satisfied: pickleshare in /srv/conda/envs/notebook/lib/python3.7/site-packages (from ipython->watermark==2.3.1->-r requirement.txt (line 4)) (0.7.5)\n",
      "Requirement already satisfied: backcall in /srv/conda/envs/notebook/lib/python3.7/site-packages (from ipython->watermark==2.3.1->-r requirement.txt (line 4)) (0.2.0)\n",
      "Requirement already satisfied: setuptools>=18.5 in /srv/conda/envs/notebook/lib/python3.7/site-packages (from ipython->watermark==2.3.1->-r requirement.txt (line 4)) (65.4.1)\n",
      "Requirement already satisfied: parso<0.9.0,>=0.8.0 in /srv/conda/envs/notebook/lib/python3.7/site-packages (from jedi>=0.16->ipython->watermark==2.3.1->-r requirement.txt (line 4)) (0.8.3)\n",
      "Requirement already satisfied: attrs>=17.4.0 in /srv/conda/envs/notebook/lib/python3.7/site-packages (from jsonschema>=2.6->nbformat>=5.1->nbconvert->-r requirement.txt (line 9)) (22.1.0)\n",
      "Requirement already satisfied: pkgutil-resolve-name>=1.3.10 in /srv/conda/envs/notebook/lib/python3.7/site-packages (from jsonschema>=2.6->nbformat>=5.1->nbconvert->-r requirement.txt (line 9)) (1.3.10)\n",
      "Requirement already satisfied: pyrsistent!=0.17.0,!=0.17.1,!=0.17.2,>=0.14.0 in /srv/conda/envs/notebook/lib/python3.7/site-packages (from jsonschema>=2.6->nbformat>=5.1->nbconvert->-r requirement.txt (line 9)) (0.18.1)\n",
      "Requirement already satisfied: importlib-resources>=1.4.0 in /srv/conda/envs/notebook/lib/python3.7/site-packages (from jsonschema>=2.6->nbformat>=5.1->nbconvert->-r requirement.txt (line 9)) (5.10.0)\n",
      "Requirement already satisfied: tornado>=6.2 in /srv/conda/envs/notebook/lib/python3.7/site-packages (from jupyter-client>=6.1.5->nbclient>=0.5.0->nbconvert->-r requirement.txt (line 9)) (6.2)\n",
      "Requirement already satisfied: pyzmq>=23.0 in /srv/conda/envs/notebook/lib/python3.7/site-packages (from jupyter-client>=6.1.5->nbclient>=0.5.0->nbconvert->-r requirement.txt (line 9)) (24.0.1)\n",
      "Requirement already satisfied: entrypoints in /srv/conda/envs/notebook/lib/python3.7/site-packages (from jupyter-client>=6.1.5->nbclient>=0.5.0->nbconvert->-r requirement.txt (line 9)) (0.4)\n",
      "Requirement already satisfied: ptyprocess>=0.5 in /srv/conda/envs/notebook/lib/python3.7/site-packages (from pexpect>4.3->ipython->watermark==2.3.1->-r requirement.txt (line 4)) (0.7.0)\n",
      "Requirement already satisfied: wcwidth in /srv/conda/envs/notebook/lib/python3.7/site-packages (from prompt-toolkit!=3.0.0,!=3.0.1,<3.1.0,>=2.0.0->ipython->watermark==2.3.1->-r requirement.txt (line 4)) (0.2.5)\n",
      "Building wheels for collected packages: wget, sklearn\n",
      "  Building wheel for wget (setup.py) ... \u001b[?25ldone\n",
      "\u001b[?25h  Created wheel for wget: filename=wget-3.2-py3-none-any.whl size=9657 sha256=a21cd6340313b8ab528c576bd9c8cf0dedcc835b623ddcf21b8ad0d129157c1d\n",
      "  Stored in directory: /home/jovyan/.cache/pip/wheels/a1/b6/7c/0e63e34eb06634181c63adacca38b79ff8f35c37e3c13e3c02\n",
      "  Building wheel for sklearn (setup.py) ... \u001b[?25ldone\n",
      "\u001b[?25h  Created wheel for sklearn: filename=sklearn-0.0-py2.py3-none-any.whl size=1304 sha256=37301313e60509ce212e8651781877b4858a9daca48df31100ae7780dac73e1d\n",
      "  Stored in directory: /home/jovyan/.cache/pip/wheels/46/ef/c3/157e41f5ee1372d1be90b09f74f82b10e391eaacca8f22d33e\n",
      "Successfully built wget sklearn\n",
      "Installing collected packages: wget, keras, threadpoolctl, pillow, numpy, kiwisolver, joblib, cycler, scipy, pandas, matplotlib, watermark, scikit-learn, sklearn, scikit-plot\n",
      "Successfully installed cycler-0.11.0 joblib-1.2.0 keras-2.9.0 kiwisolver-1.4.4 matplotlib-3.3.4 numpy-1.21.2 pandas-1.1.5 pillow-9.2.0 scikit-learn-1.0.2 scikit-plot-0.3.7 scipy-1.7.3 sklearn-0.0 threadpoolctl-3.1.0 watermark-2.3.1 wget-3.2\n"
     ]
    }
   ],
   "source": [
    "!pip install -r requirement.txt"
   ]
  },
  {
   "cell_type": "code",
   "execution_count": 2,
   "metadata": {
    "id": "WlODRJvSWNs4"
   },
   "outputs": [],
   "source": [
    "%matplotlib inline\n",
    "import numpy as np\n",
    "import pandas as pd\n",
    "from sklearn import linear_model  # linear regression library\n",
    "from sklearn.linear_model import LinearRegression\n",
    "from sklearn.metrics import mean_squared_error\n",
    "from sklearn.metrics import mean_absolute_percentage_error\n",
    "from sklearn import metrics\n",
    "from sklearn.model_selection import train_test_split\n",
    "import matplotlib.pyplot as plt\n"
   ]
  },
  {
   "cell_type": "markdown",
   "metadata": {
    "id": "SFqjFFGuWNs4"
   },
   "source": [
    "This next snippet of code loads the load forecasting dataset. There are 50000 data points, each with 8 predictor variables that are input `x` and one response variable (which we'll denote `y`).\n",
    "\n"
   ]
  },
  {
   "cell_type": "code",
   "execution_count": 3,
   "metadata": {
    "id": "cCZAmpoWWNs5",
    "tags": []
   },
   "outputs": [
    {
     "data": {
      "text/html": [
       "<div>\n",
       "<style scoped>\n",
       "    .dataframe tbody tr th:only-of-type {\n",
       "        vertical-align: middle;\n",
       "    }\n",
       "\n",
       "    .dataframe tbody tr th {\n",
       "        vertical-align: top;\n",
       "    }\n",
       "\n",
       "    .dataframe thead th {\n",
       "        text-align: right;\n",
       "    }\n",
       "</style>\n",
       "<table border=\"1\" class=\"dataframe\">\n",
       "  <thead>\n",
       "    <tr style=\"text-align: right;\">\n",
       "      <th></th>\n",
       "      <th>DryBulb</th>\n",
       "      <th>DewPoint</th>\n",
       "      <th>Hour</th>\n",
       "      <th>Weekday</th>\n",
       "      <th>IsWorkingDay</th>\n",
       "      <th>P_W_S_hour_l</th>\n",
       "      <th>P_D_S_hour_l</th>\n",
       "      <th>prev24HrAveLoad</th>\n",
       "      <th>target_variable</th>\n",
       "    </tr>\n",
       "  </thead>\n",
       "  <tbody>\n",
       "    <tr>\n",
       "      <th>0</th>\n",
       "      <td>37</td>\n",
       "      <td>25</td>\n",
       "      <td>1</td>\n",
       "      <td>5</td>\n",
       "      <td>0</td>\n",
       "      <td>12230</td>\n",
       "      <td>12230</td>\n",
       "      <td>509.583333</td>\n",
       "      <td>12230</td>\n",
       "    </tr>\n",
       "    <tr>\n",
       "      <th>1</th>\n",
       "      <td>37</td>\n",
       "      <td>25</td>\n",
       "      <td>2</td>\n",
       "      <td>5</td>\n",
       "      <td>0</td>\n",
       "      <td>11534</td>\n",
       "      <td>11534</td>\n",
       "      <td>990.166667</td>\n",
       "      <td>11534</td>\n",
       "    </tr>\n",
       "    <tr>\n",
       "      <th>2</th>\n",
       "      <td>39</td>\n",
       "      <td>24</td>\n",
       "      <td>3</td>\n",
       "      <td>5</td>\n",
       "      <td>0</td>\n",
       "      <td>11038</td>\n",
       "      <td>11038</td>\n",
       "      <td>1450.083333</td>\n",
       "      <td>11038</td>\n",
       "    </tr>\n",
       "    <tr>\n",
       "      <th>3</th>\n",
       "      <td>38</td>\n",
       "      <td>22</td>\n",
       "      <td>4</td>\n",
       "      <td>5</td>\n",
       "      <td>0</td>\n",
       "      <td>10777</td>\n",
       "      <td>10777</td>\n",
       "      <td>1899.125000</td>\n",
       "      <td>10777</td>\n",
       "    </tr>\n",
       "    <tr>\n",
       "      <th>4</th>\n",
       "      <td>37</td>\n",
       "      <td>20</td>\n",
       "      <td>5</td>\n",
       "      <td>5</td>\n",
       "      <td>0</td>\n",
       "      <td>10764</td>\n",
       "      <td>10764</td>\n",
       "      <td>2347.625000</td>\n",
       "      <td>10764</td>\n",
       "    </tr>\n",
       "  </tbody>\n",
       "</table>\n",
       "</div>"
      ],
      "text/plain": [
       "   DryBulb  DewPoint  Hour  Weekday  IsWorkingDay  P_W_S_hour_l  P_D_S_hour_l  \\\n",
       "0       37        25     1        5             0         12230         12230   \n",
       "1       37        25     2        5             0         11534         11534   \n",
       "2       39        24     3        5             0         11038         11038   \n",
       "3       38        22     4        5             0         10777         10777   \n",
       "4       37        20     5        5             0         10764         10764   \n",
       "\n",
       "   prev24HrAveLoad  target_variable  \n",
       "0       509.583333            12230  \n",
       "1       990.166667            11534  \n",
       "2      1450.083333            11038  \n",
       "3      1899.125000            10777  \n",
       "4      2347.625000            10764  "
      ]
     },
     "execution_count": 3,
     "metadata": {},
     "output_type": "execute_result"
    }
   ],
   "source": [
    "dataset = pd.read_csv('dataset.csv') # Reads the dataset in pandas dataframe\n",
    "\n",
    "features = ['DryBulb', 'DewPoint', 'Hour', 'Weekday', \n",
    "            'IsWorkingDay', 'P_W_S_hour_l', 'P_D_S_hour_l', 'prev24HrAveLoad']\n",
    "dataset.head() # This command tell the first 5 entries of the dataset"
   ]
  },
  {
   "cell_type": "markdown",
   "metadata": {
    "id": "6Ba0JBUMWNs5"
   },
   "source": [
    "The dataset contains 8 input variable which contains the contextual information and historical load and temperature data. The variable includes:\n",
    "- DryBulb temperature\n",
    "- DewPoints\n",
    "- Hours (data is collected in hourly samples so each day has 24 values)\n",
    "- Weekday number [1 for Monday and 7 Sunday]\n",
    "- Holyday flag [IsWorkingDay 0 for working 1 for holiday]\n",
    "- prvious week same hour load (P_W_S_hour_l) 168 lagging entry i.e. 168 hours per week\n",
    "- prevuous day same hour load (P_D_S_hour_l) 24 lagging entry\n",
    "- prev24HrAveLoad (Average load for the perticular day)\n",
    "\n",
    "Target variable is actual load at that perticular hour that is need to be predicted"
   ]
  },
  {
   "cell_type": "markdown",
   "metadata": {
    "id": "gr1_iCP3WNs6"
   },
   "source": [
    "# Statistical Feature Extraction (Increase the Feature Space)\n",
    "This snippet of code extract the statistical features for the given data. These features includes the mean, standard deviation\n",
    "and variance of daily, 48 hours, 72 hours and weekly load. "
   ]
  },
  {
   "cell_type": "code",
   "execution_count": 4,
   "metadata": {
    "id": "WeWZAGsVWNs6"
   },
   "outputs": [],
   "source": [
    "\n",
    "dataset['weekly_rollingavg'] = dataset['target_variable'].rolling(window=168).mean()\n",
    "dataset['weekly_std'] = dataset['target_variable'].rolling(window=168).std()\n",
    "dataset['daily_std'] = dataset['target_variable'].rolling(window=24).std()\n",
    "\n",
    "dataset['weekly_varience'] = dataset['target_variable'].rolling(window=168).var()\n",
    "dataset['daily_varience'] = dataset['target_variable'].rolling(window=24).var()\n",
    "\n",
    "\n",
    "dataset['weekly_median'] = dataset['target_variable'].rolling(window=168).median()\n",
    "dataset['daily_meadian'] = dataset['target_variable'].rolling(window=24).median()\n",
    "\n",
    "\n",
    "\n",
    "dataset['48_hour_mean'] = dataset['target_variable'].rolling(window=48).mean()\n",
    "dataset['48_hour_variance'] = dataset['target_variable'].rolling(window=48).var()\n",
    "dataset['48_hour_std'] = dataset['target_variable'].rolling(window=48).std()\n",
    "\n",
    "\n",
    "dataset['72_hour_mean'] = dataset['target_variable'].rolling(window=72).mean()\n",
    "dataset['72_hour_variance'] = dataset['target_variable'].rolling(window=72).var()\n",
    "dataset['72_hour_std'] = dataset['target_variable'].rolling(window=72).std()\n",
    "\n",
    "\n",
    "dataset['12_hours_temp_mean'] = dataset['DewPoint'].rolling(window=12).mean()\n",
    "dataset['24_hour_temp_mean'] = dataset['DewPoint'].rolling(window=24).mean()\n",
    "\n",
    "\n",
    "dataset['12_hours_temp_std'] = dataset['DewPoint'].rolling(window=12).std()\n",
    "dataset['24_hour_temp_std'] = dataset['DewPoint'].rolling(window=24).std()\n",
    "\n",
    "\n",
    "dataset['12_hours_temp_var'] = dataset['DewPoint'].rolling(window=12).var()\n",
    "dataset['24_hour_temp_var'] = dataset['DewPoint'].rolling(window=24).var()\n",
    "\n",
    "\n"
   ]
  },
  {
   "cell_type": "code",
   "execution_count": 5,
   "metadata": {
    "id": "Eh0ox7JSWNs6"
   },
   "outputs": [
    {
     "data": {
      "text/html": [
       "<div>\n",
       "<style scoped>\n",
       "    .dataframe tbody tr th:only-of-type {\n",
       "        vertical-align: middle;\n",
       "    }\n",
       "\n",
       "    .dataframe tbody tr th {\n",
       "        vertical-align: top;\n",
       "    }\n",
       "\n",
       "    .dataframe thead th {\n",
       "        text-align: right;\n",
       "    }\n",
       "</style>\n",
       "<table border=\"1\" class=\"dataframe\">\n",
       "  <thead>\n",
       "    <tr style=\"text-align: right;\">\n",
       "      <th></th>\n",
       "      <th>DryBulb</th>\n",
       "      <th>DewPoint</th>\n",
       "      <th>Hour</th>\n",
       "      <th>Weekday</th>\n",
       "      <th>IsWorkingDay</th>\n",
       "      <th>P_W_S_hour_l</th>\n",
       "      <th>P_D_S_hour_l</th>\n",
       "      <th>prev24HrAveLoad</th>\n",
       "      <th>target_variable</th>\n",
       "      <th>weekly_rollingavg</th>\n",
       "      <th>...</th>\n",
       "      <th>48_hour_std</th>\n",
       "      <th>72_hour_mean</th>\n",
       "      <th>72_hour_variance</th>\n",
       "      <th>72_hour_std</th>\n",
       "      <th>12_hours_temp_mean</th>\n",
       "      <th>24_hour_temp_mean</th>\n",
       "      <th>12_hours_temp_std</th>\n",
       "      <th>24_hour_temp_std</th>\n",
       "      <th>12_hours_temp_var</th>\n",
       "      <th>24_hour_temp_var</th>\n",
       "    </tr>\n",
       "  </thead>\n",
       "  <tbody>\n",
       "    <tr>\n",
       "      <th>0</th>\n",
       "      <td>37</td>\n",
       "      <td>25</td>\n",
       "      <td>1</td>\n",
       "      <td>5</td>\n",
       "      <td>0</td>\n",
       "      <td>12230</td>\n",
       "      <td>12230</td>\n",
       "      <td>509.583333</td>\n",
       "      <td>12230</td>\n",
       "      <td>NaN</td>\n",
       "      <td>...</td>\n",
       "      <td>NaN</td>\n",
       "      <td>NaN</td>\n",
       "      <td>NaN</td>\n",
       "      <td>NaN</td>\n",
       "      <td>NaN</td>\n",
       "      <td>NaN</td>\n",
       "      <td>NaN</td>\n",
       "      <td>NaN</td>\n",
       "      <td>NaN</td>\n",
       "      <td>NaN</td>\n",
       "    </tr>\n",
       "    <tr>\n",
       "      <th>1</th>\n",
       "      <td>37</td>\n",
       "      <td>25</td>\n",
       "      <td>2</td>\n",
       "      <td>5</td>\n",
       "      <td>0</td>\n",
       "      <td>11534</td>\n",
       "      <td>11534</td>\n",
       "      <td>990.166667</td>\n",
       "      <td>11534</td>\n",
       "      <td>NaN</td>\n",
       "      <td>...</td>\n",
       "      <td>NaN</td>\n",
       "      <td>NaN</td>\n",
       "      <td>NaN</td>\n",
       "      <td>NaN</td>\n",
       "      <td>NaN</td>\n",
       "      <td>NaN</td>\n",
       "      <td>NaN</td>\n",
       "      <td>NaN</td>\n",
       "      <td>NaN</td>\n",
       "      <td>NaN</td>\n",
       "    </tr>\n",
       "    <tr>\n",
       "      <th>2</th>\n",
       "      <td>39</td>\n",
       "      <td>24</td>\n",
       "      <td>3</td>\n",
       "      <td>5</td>\n",
       "      <td>0</td>\n",
       "      <td>11038</td>\n",
       "      <td>11038</td>\n",
       "      <td>1450.083333</td>\n",
       "      <td>11038</td>\n",
       "      <td>NaN</td>\n",
       "      <td>...</td>\n",
       "      <td>NaN</td>\n",
       "      <td>NaN</td>\n",
       "      <td>NaN</td>\n",
       "      <td>NaN</td>\n",
       "      <td>NaN</td>\n",
       "      <td>NaN</td>\n",
       "      <td>NaN</td>\n",
       "      <td>NaN</td>\n",
       "      <td>NaN</td>\n",
       "      <td>NaN</td>\n",
       "    </tr>\n",
       "    <tr>\n",
       "      <th>3</th>\n",
       "      <td>38</td>\n",
       "      <td>22</td>\n",
       "      <td>4</td>\n",
       "      <td>5</td>\n",
       "      <td>0</td>\n",
       "      <td>10777</td>\n",
       "      <td>10777</td>\n",
       "      <td>1899.125000</td>\n",
       "      <td>10777</td>\n",
       "      <td>NaN</td>\n",
       "      <td>...</td>\n",
       "      <td>NaN</td>\n",
       "      <td>NaN</td>\n",
       "      <td>NaN</td>\n",
       "      <td>NaN</td>\n",
       "      <td>NaN</td>\n",
       "      <td>NaN</td>\n",
       "      <td>NaN</td>\n",
       "      <td>NaN</td>\n",
       "      <td>NaN</td>\n",
       "      <td>NaN</td>\n",
       "    </tr>\n",
       "    <tr>\n",
       "      <th>4</th>\n",
       "      <td>37</td>\n",
       "      <td>20</td>\n",
       "      <td>5</td>\n",
       "      <td>5</td>\n",
       "      <td>0</td>\n",
       "      <td>10764</td>\n",
       "      <td>10764</td>\n",
       "      <td>2347.625000</td>\n",
       "      <td>10764</td>\n",
       "      <td>NaN</td>\n",
       "      <td>...</td>\n",
       "      <td>NaN</td>\n",
       "      <td>NaN</td>\n",
       "      <td>NaN</td>\n",
       "      <td>NaN</td>\n",
       "      <td>NaN</td>\n",
       "      <td>NaN</td>\n",
       "      <td>NaN</td>\n",
       "      <td>NaN</td>\n",
       "      <td>NaN</td>\n",
       "      <td>NaN</td>\n",
       "    </tr>\n",
       "  </tbody>\n",
       "</table>\n",
       "<p>5 rows × 28 columns</p>\n",
       "</div>"
      ],
      "text/plain": [
       "   DryBulb  DewPoint  Hour  Weekday  IsWorkingDay  P_W_S_hour_l  P_D_S_hour_l  \\\n",
       "0       37        25     1        5             0         12230         12230   \n",
       "1       37        25     2        5             0         11534         11534   \n",
       "2       39        24     3        5             0         11038         11038   \n",
       "3       38        22     4        5             0         10777         10777   \n",
       "4       37        20     5        5             0         10764         10764   \n",
       "\n",
       "   prev24HrAveLoad  target_variable  weekly_rollingavg  ...  48_hour_std  \\\n",
       "0       509.583333            12230                NaN  ...          NaN   \n",
       "1       990.166667            11534                NaN  ...          NaN   \n",
       "2      1450.083333            11038                NaN  ...          NaN   \n",
       "3      1899.125000            10777                NaN  ...          NaN   \n",
       "4      2347.625000            10764                NaN  ...          NaN   \n",
       "\n",
       "   72_hour_mean  72_hour_variance  72_hour_std  12_hours_temp_mean  \\\n",
       "0           NaN               NaN          NaN                 NaN   \n",
       "1           NaN               NaN          NaN                 NaN   \n",
       "2           NaN               NaN          NaN                 NaN   \n",
       "3           NaN               NaN          NaN                 NaN   \n",
       "4           NaN               NaN          NaN                 NaN   \n",
       "\n",
       "   24_hour_temp_mean  12_hours_temp_std  24_hour_temp_std  12_hours_temp_var  \\\n",
       "0                NaN                NaN               NaN                NaN   \n",
       "1                NaN                NaN               NaN                NaN   \n",
       "2                NaN                NaN               NaN                NaN   \n",
       "3                NaN                NaN               NaN                NaN   \n",
       "4                NaN                NaN               NaN                NaN   \n",
       "\n",
       "   24_hour_temp_var  \n",
       "0               NaN  \n",
       "1               NaN  \n",
       "2               NaN  \n",
       "3               NaN  \n",
       "4               NaN  \n",
       "\n",
       "[5 rows x 28 columns]"
      ]
     },
     "execution_count": 5,
     "metadata": {},
     "output_type": "execute_result"
    }
   ],
   "source": [
    "dataset.head() # Displays the first 5 values of expended dataset\n",
    "\n"
   ]
  },
  {
   "cell_type": "code",
   "execution_count": 6,
   "metadata": {
    "id": "94Ozd0OPWNs7"
   },
   "outputs": [
    {
     "name": "stdout",
     "output_type": "stream",
     "text": [
      "['DryBulb', 'DewPoint', 'Hour', 'Weekday', 'IsWorkingDay', 'P_W_S_hour_l', 'P_D_S_hour_l', 'prev24HrAveLoad', 'weekly_rollingavg', 'weekly_std', 'daily_std', 'weekly_varience', 'daily_varience', 'weekly_median', 'daily_meadian', '48_hour_mean', '48_hour_variance', '48_hour_std', '72_hour_mean', '72_hour_variance', '72_hour_std', '12_hours_temp_mean', '24_hour_temp_mean', '12_hours_temp_std', '24_hour_temp_std', '12_hours_temp_var', '24_hour_temp_var']\n",
      "----------------------------------------------\n",
      "Number of features in training set: 27\n"
     ]
    }
   ],
   "source": [
    "variables = [*dataset]\n",
    "\n",
    "# The target_value is at index 8 so we have to remove it for the feature list.\n",
    "#\n",
    "\n",
    "index = 8\n",
    "features = variables[:index]+variables[index+1:] # remove the target variable for feature list\n",
    "print(features)\n",
    "\n",
    "print('----------------------------------------------')\n",
    "\n",
    "print('Number of features in training set:', len(features))\n",
    "\n"
   ]
  },
  {
   "cell_type": "markdown",
   "metadata": {
    "id": "8Gbqp3-dWNs7"
   },
   "source": [
    "# Remove the missing value: (Data Filterig)\n",
    "\n",
    "- While generating feature, the first few values of each column has NaN (not a number) which requires filtering before model training"
   ]
  },
  {
   "cell_type": "code",
   "execution_count": 7,
   "metadata": {
    "id": "GqPhlMlDWNs7"
   },
   "outputs": [
    {
     "name": "stdout",
     "output_type": "stream",
     "text": [
      "Total number of rows with missing values is  167\n"
     ]
    },
    {
     "data": {
      "text/plain": [
       "DryBulb                 0\n",
       "DewPoint                0\n",
       "Hour                    0\n",
       "Weekday                 0\n",
       "IsWorkingDay            0\n",
       "P_W_S_hour_l            0\n",
       "P_D_S_hour_l            0\n",
       "prev24HrAveLoad         0\n",
       "target_variable         0\n",
       "weekly_rollingavg     167\n",
       "weekly_std            167\n",
       "daily_std              23\n",
       "weekly_varience       167\n",
       "daily_varience         23\n",
       "weekly_median         167\n",
       "daily_meadian          23\n",
       "48_hour_mean           47\n",
       "48_hour_variance       47\n",
       "48_hour_std            47\n",
       "72_hour_mean           71\n",
       "72_hour_variance       71\n",
       "72_hour_std            71\n",
       "12_hours_temp_mean     11\n",
       "24_hour_temp_mean      23\n",
       "12_hours_temp_std      11\n",
       "24_hour_temp_std       23\n",
       "12_hours_temp_var      11\n",
       "24_hour_temp_var       23\n",
       "dtype: int64"
      ]
     },
     "execution_count": 7,
     "metadata": {},
     "output_type": "execute_result"
    }
   ],
   "source": [
    "count=0\n",
    "for i in dataset.isnull().sum(axis=1):\n",
    "    if i>0:\n",
    "        count=count+1\n",
    "print('Total number of rows with missing values is ', count)\n",
    "#print('Since it is only',round((count/len(dataset.index))*100), 'percent of the entire dataset the rows with missing values are excluded.')\n",
    "dataset.isnull().sum()"
   ]
  },
  {
   "cell_type": "markdown",
   "metadata": {
    "id": "QnopsxBSWNs7"
   },
   "source": [
    "### Some of the features have values that are need to be removed with NaN"
   ]
  },
  {
   "cell_type": "code",
   "execution_count": 8,
   "metadata": {
    "id": "tEuLO-u3WNs8"
   },
   "outputs": [
    {
     "data": {
      "text/html": [
       "<div>\n",
       "<style scoped>\n",
       "    .dataframe tbody tr th:only-of-type {\n",
       "        vertical-align: middle;\n",
       "    }\n",
       "\n",
       "    .dataframe tbody tr th {\n",
       "        vertical-align: top;\n",
       "    }\n",
       "\n",
       "    .dataframe thead th {\n",
       "        text-align: right;\n",
       "    }\n",
       "</style>\n",
       "<table border=\"1\" class=\"dataframe\">\n",
       "  <thead>\n",
       "    <tr style=\"text-align: right;\">\n",
       "      <th></th>\n",
       "      <th>DryBulb</th>\n",
       "      <th>DewPoint</th>\n",
       "      <th>Hour</th>\n",
       "      <th>Weekday</th>\n",
       "      <th>IsWorkingDay</th>\n",
       "      <th>P_W_S_hour_l</th>\n",
       "      <th>P_D_S_hour_l</th>\n",
       "      <th>prev24HrAveLoad</th>\n",
       "      <th>target_variable</th>\n",
       "      <th>weekly_rollingavg</th>\n",
       "      <th>...</th>\n",
       "      <th>48_hour_std</th>\n",
       "      <th>72_hour_mean</th>\n",
       "      <th>72_hour_variance</th>\n",
       "      <th>72_hour_std</th>\n",
       "      <th>12_hours_temp_mean</th>\n",
       "      <th>24_hour_temp_mean</th>\n",
       "      <th>12_hours_temp_std</th>\n",
       "      <th>24_hour_temp_std</th>\n",
       "      <th>12_hours_temp_var</th>\n",
       "      <th>24_hour_temp_var</th>\n",
       "    </tr>\n",
       "  </thead>\n",
       "  <tbody>\n",
       "    <tr>\n",
       "      <th>0</th>\n",
       "      <td>16</td>\n",
       "      <td>3</td>\n",
       "      <td>24</td>\n",
       "      <td>4</td>\n",
       "      <td>1</td>\n",
       "      <td>15138</td>\n",
       "      <td>14315</td>\n",
       "      <td>17191.29167</td>\n",
       "      <td>15138</td>\n",
       "      <td>14949.434524</td>\n",
       "      <td>...</td>\n",
       "      <td>2599.385582</td>\n",
       "      <td>16339.680556</td>\n",
       "      <td>7.472860e+06</td>\n",
       "      <td>2733.653165</td>\n",
       "      <td>4.083333</td>\n",
       "      <td>3.833333</td>\n",
       "      <td>1.164500</td>\n",
       "      <td>1.129319</td>\n",
       "      <td>1.356061</td>\n",
       "      <td>1.275362</td>\n",
       "    </tr>\n",
       "    <tr>\n",
       "      <th>1</th>\n",
       "      <td>15</td>\n",
       "      <td>0</td>\n",
       "      <td>1</td>\n",
       "      <td>5</td>\n",
       "      <td>1</td>\n",
       "      <td>12230</td>\n",
       "      <td>13415</td>\n",
       "      <td>17223.41667</td>\n",
       "      <td>14186</td>\n",
       "      <td>14961.077381</td>\n",
       "      <td>...</td>\n",
       "      <td>2553.601008</td>\n",
       "      <td>16377.763889</td>\n",
       "      <td>7.199145e+06</td>\n",
       "      <td>2683.122159</td>\n",
       "      <td>3.916667</td>\n",
       "      <td>3.625000</td>\n",
       "      <td>1.564279</td>\n",
       "      <td>1.345282</td>\n",
       "      <td>2.446970</td>\n",
       "      <td>1.809783</td>\n",
       "    </tr>\n",
       "    <tr>\n",
       "      <th>2</th>\n",
       "      <td>14</td>\n",
       "      <td>1</td>\n",
       "      <td>2</td>\n",
       "      <td>5</td>\n",
       "      <td>1</td>\n",
       "      <td>11534</td>\n",
       "      <td>12990</td>\n",
       "      <td>17255.37500</td>\n",
       "      <td>13757</td>\n",
       "      <td>14974.309524</td>\n",
       "      <td>...</td>\n",
       "      <td>2497.665642</td>\n",
       "      <td>16415.430556</td>\n",
       "      <td>6.893903e+06</td>\n",
       "      <td>2625.624384</td>\n",
       "      <td>3.833333</td>\n",
       "      <td>3.458333</td>\n",
       "      <td>1.696699</td>\n",
       "      <td>1.413573</td>\n",
       "      <td>2.878788</td>\n",
       "      <td>1.998188</td>\n",
       "    </tr>\n",
       "    <tr>\n",
       "      <th>3</th>\n",
       "      <td>13</td>\n",
       "      <td>0</td>\n",
       "      <td>3</td>\n",
       "      <td>5</td>\n",
       "      <td>1</td>\n",
       "      <td>11038</td>\n",
       "      <td>12832</td>\n",
       "      <td>17287.08333</td>\n",
       "      <td>13593</td>\n",
       "      <td>14989.517857</td>\n",
       "      <td>...</td>\n",
       "      <td>2435.017897</td>\n",
       "      <td>16452.902778</td>\n",
       "      <td>6.575451e+06</td>\n",
       "      <td>2564.264171</td>\n",
       "      <td>3.416667</td>\n",
       "      <td>3.291667</td>\n",
       "      <td>1.975225</td>\n",
       "      <td>1.573674</td>\n",
       "      <td>3.901515</td>\n",
       "      <td>2.476449</td>\n",
       "    </tr>\n",
       "    <tr>\n",
       "      <th>4</th>\n",
       "      <td>12</td>\n",
       "      <td>-1</td>\n",
       "      <td>4</td>\n",
       "      <td>5</td>\n",
       "      <td>1</td>\n",
       "      <td>10777</td>\n",
       "      <td>12866</td>\n",
       "      <td>17318.16667</td>\n",
       "      <td>13612</td>\n",
       "      <td>15006.392857</td>\n",
       "      <td>...</td>\n",
       "      <td>2369.876249</td>\n",
       "      <td>16490.458333</td>\n",
       "      <td>6.254651e+06</td>\n",
       "      <td>2500.930063</td>\n",
       "      <td>3.000000</td>\n",
       "      <td>3.083333</td>\n",
       "      <td>2.335497</td>\n",
       "      <td>1.791688</td>\n",
       "      <td>5.454545</td>\n",
       "      <td>3.210145</td>\n",
       "    </tr>\n",
       "    <tr>\n",
       "      <th>...</th>\n",
       "      <td>...</td>\n",
       "      <td>...</td>\n",
       "      <td>...</td>\n",
       "      <td>...</td>\n",
       "      <td>...</td>\n",
       "      <td>...</td>\n",
       "      <td>...</td>\n",
       "      <td>...</td>\n",
       "      <td>...</td>\n",
       "      <td>...</td>\n",
       "      <td>...</td>\n",
       "      <td>...</td>\n",
       "      <td>...</td>\n",
       "      <td>...</td>\n",
       "      <td>...</td>\n",
       "      <td>...</td>\n",
       "      <td>...</td>\n",
       "      <td>...</td>\n",
       "      <td>...</td>\n",
       "      <td>...</td>\n",
       "      <td>...</td>\n",
       "    </tr>\n",
       "    <tr>\n",
       "      <th>49828</th>\n",
       "      <td>58</td>\n",
       "      <td>53</td>\n",
       "      <td>4</td>\n",
       "      <td>2</td>\n",
       "      <td>1</td>\n",
       "      <td>9408</td>\n",
       "      <td>9990</td>\n",
       "      <td>13135.45833</td>\n",
       "      <td>10015</td>\n",
       "      <td>13613.904762</td>\n",
       "      <td>...</td>\n",
       "      <td>2034.082504</td>\n",
       "      <td>13330.888889</td>\n",
       "      <td>4.417174e+06</td>\n",
       "      <td>2101.707365</td>\n",
       "      <td>56.000000</td>\n",
       "      <td>58.458333</td>\n",
       "      <td>2.088932</td>\n",
       "      <td>3.050006</td>\n",
       "      <td>4.363636</td>\n",
       "      <td>9.302536</td>\n",
       "    </tr>\n",
       "    <tr>\n",
       "      <th>49829</th>\n",
       "      <td>57</td>\n",
       "      <td>53</td>\n",
       "      <td>5</td>\n",
       "      <td>2</td>\n",
       "      <td>1</td>\n",
       "      <td>9473</td>\n",
       "      <td>9972</td>\n",
       "      <td>13147.91667</td>\n",
       "      <td>10271</td>\n",
       "      <td>13618.654762</td>\n",
       "      <td>...</td>\n",
       "      <td>2029.024434</td>\n",
       "      <td>13332.916667</td>\n",
       "      <td>4.404285e+06</td>\n",
       "      <td>2098.638873</td>\n",
       "      <td>55.666667</td>\n",
       "      <td>58.125000</td>\n",
       "      <td>2.229282</td>\n",
       "      <td>3.193914</td>\n",
       "      <td>4.969697</td>\n",
       "      <td>10.201087</td>\n",
       "    </tr>\n",
       "    <tr>\n",
       "      <th>49830</th>\n",
       "      <td>56</td>\n",
       "      <td>52</td>\n",
       "      <td>6</td>\n",
       "      <td>2</td>\n",
       "      <td>1</td>\n",
       "      <td>9740</td>\n",
       "      <td>10171</td>\n",
       "      <td>13192.70833</td>\n",
       "      <td>11246</td>\n",
       "      <td>13627.619048</td>\n",
       "      <td>...</td>\n",
       "      <td>2009.196627</td>\n",
       "      <td>13335.916667</td>\n",
       "      <td>4.390921e+06</td>\n",
       "      <td>2095.452459</td>\n",
       "      <td>55.166667</td>\n",
       "      <td>57.750000</td>\n",
       "      <td>2.329000</td>\n",
       "      <td>3.365425</td>\n",
       "      <td>5.424242</td>\n",
       "      <td>11.326087</td>\n",
       "    </tr>\n",
       "    <tr>\n",
       "      <th>49831</th>\n",
       "      <td>56</td>\n",
       "      <td>52</td>\n",
       "      <td>7</td>\n",
       "      <td>2</td>\n",
       "      <td>1</td>\n",
       "      <td>10039</td>\n",
       "      <td>10539</td>\n",
       "      <td>13297.83333</td>\n",
       "      <td>13062</td>\n",
       "      <td>13645.613095</td>\n",
       "      <td>...</td>\n",
       "      <td>1986.807917</td>\n",
       "      <td>13338.444444</td>\n",
       "      <td>4.389044e+06</td>\n",
       "      <td>2095.004460</td>\n",
       "      <td>54.583333</td>\n",
       "      <td>57.375000</td>\n",
       "      <td>2.151462</td>\n",
       "      <td>3.486776</td>\n",
       "      <td>4.628788</td>\n",
       "      <td>12.157609</td>\n",
       "    </tr>\n",
       "    <tr>\n",
       "      <th>49832</th>\n",
       "      <td>56</td>\n",
       "      <td>52</td>\n",
       "      <td>8</td>\n",
       "      <td>2</td>\n",
       "      <td>1</td>\n",
       "      <td>10761</td>\n",
       "      <td>11222</td>\n",
       "      <td>13429.25000</td>\n",
       "      <td>14376</td>\n",
       "      <td>13667.130952</td>\n",
       "      <td>...</td>\n",
       "      <td>1986.692450</td>\n",
       "      <td>13340.722222</td>\n",
       "      <td>4.393453e+06</td>\n",
       "      <td>2096.056493</td>\n",
       "      <td>54.083333</td>\n",
       "      <td>57.000000</td>\n",
       "      <td>1.975225</td>\n",
       "      <td>3.563096</td>\n",
       "      <td>3.901515</td>\n",
       "      <td>12.695652</td>\n",
       "    </tr>\n",
       "  </tbody>\n",
       "</table>\n",
       "<p>49833 rows × 28 columns</p>\n",
       "</div>"
      ],
      "text/plain": [
       "       DryBulb  DewPoint  Hour  Weekday  IsWorkingDay  P_W_S_hour_l  \\\n",
       "0           16         3    24        4             1         15138   \n",
       "1           15         0     1        5             1         12230   \n",
       "2           14         1     2        5             1         11534   \n",
       "3           13         0     3        5             1         11038   \n",
       "4           12        -1     4        5             1         10777   \n",
       "...        ...       ...   ...      ...           ...           ...   \n",
       "49828       58        53     4        2             1          9408   \n",
       "49829       57        53     5        2             1          9473   \n",
       "49830       56        52     6        2             1          9740   \n",
       "49831       56        52     7        2             1         10039   \n",
       "49832       56        52     8        2             1         10761   \n",
       "\n",
       "       P_D_S_hour_l  prev24HrAveLoad  target_variable  weekly_rollingavg  ...  \\\n",
       "0             14315      17191.29167            15138       14949.434524  ...   \n",
       "1             13415      17223.41667            14186       14961.077381  ...   \n",
       "2             12990      17255.37500            13757       14974.309524  ...   \n",
       "3             12832      17287.08333            13593       14989.517857  ...   \n",
       "4             12866      17318.16667            13612       15006.392857  ...   \n",
       "...             ...              ...              ...                ...  ...   \n",
       "49828          9990      13135.45833            10015       13613.904762  ...   \n",
       "49829          9972      13147.91667            10271       13618.654762  ...   \n",
       "49830         10171      13192.70833            11246       13627.619048  ...   \n",
       "49831         10539      13297.83333            13062       13645.613095  ...   \n",
       "49832         11222      13429.25000            14376       13667.130952  ...   \n",
       "\n",
       "       48_hour_std  72_hour_mean  72_hour_variance  72_hour_std  \\\n",
       "0      2599.385582  16339.680556      7.472860e+06  2733.653165   \n",
       "1      2553.601008  16377.763889      7.199145e+06  2683.122159   \n",
       "2      2497.665642  16415.430556      6.893903e+06  2625.624384   \n",
       "3      2435.017897  16452.902778      6.575451e+06  2564.264171   \n",
       "4      2369.876249  16490.458333      6.254651e+06  2500.930063   \n",
       "...            ...           ...               ...          ...   \n",
       "49828  2034.082504  13330.888889      4.417174e+06  2101.707365   \n",
       "49829  2029.024434  13332.916667      4.404285e+06  2098.638873   \n",
       "49830  2009.196627  13335.916667      4.390921e+06  2095.452459   \n",
       "49831  1986.807917  13338.444444      4.389044e+06  2095.004460   \n",
       "49832  1986.692450  13340.722222      4.393453e+06  2096.056493   \n",
       "\n",
       "       12_hours_temp_mean  24_hour_temp_mean  12_hours_temp_std  \\\n",
       "0                4.083333           3.833333           1.164500   \n",
       "1                3.916667           3.625000           1.564279   \n",
       "2                3.833333           3.458333           1.696699   \n",
       "3                3.416667           3.291667           1.975225   \n",
       "4                3.000000           3.083333           2.335497   \n",
       "...                   ...                ...                ...   \n",
       "49828           56.000000          58.458333           2.088932   \n",
       "49829           55.666667          58.125000           2.229282   \n",
       "49830           55.166667          57.750000           2.329000   \n",
       "49831           54.583333          57.375000           2.151462   \n",
       "49832           54.083333          57.000000           1.975225   \n",
       "\n",
       "       24_hour_temp_std  12_hours_temp_var  24_hour_temp_var  \n",
       "0              1.129319           1.356061          1.275362  \n",
       "1              1.345282           2.446970          1.809783  \n",
       "2              1.413573           2.878788          1.998188  \n",
       "3              1.573674           3.901515          2.476449  \n",
       "4              1.791688           5.454545          3.210145  \n",
       "...                 ...                ...               ...  \n",
       "49828          3.050006           4.363636          9.302536  \n",
       "49829          3.193914           4.969697         10.201087  \n",
       "49830          3.365425           5.424242         11.326087  \n",
       "49831          3.486776           4.628788         12.157609  \n",
       "49832          3.563096           3.901515         12.695652  \n",
       "\n",
       "[49833 rows x 28 columns]"
      ]
     },
     "execution_count": 8,
     "metadata": {},
     "output_type": "execute_result"
    }
   ],
   "source": [
    "# Removeing the NaN and checking the dataset set. This is the inital filtering of the data.\n",
    "dataset_new=dataset.dropna().reset_index(drop=True)\n",
    "dataset_new"
   ]
  },
  {
   "cell_type": "code",
   "execution_count": 9,
   "metadata": {
    "id": "XxNVEAcDWNs8"
   },
   "outputs": [
    {
     "name": "stdout",
     "output_type": "stream",
     "text": [
      "Total number of rows with missing values is  0\n"
     ]
    },
    {
     "data": {
      "text/plain": [
       "DryBulb               0\n",
       "DewPoint              0\n",
       "Hour                  0\n",
       "Weekday               0\n",
       "IsWorkingDay          0\n",
       "P_W_S_hour_l          0\n",
       "P_D_S_hour_l          0\n",
       "prev24HrAveLoad       0\n",
       "target_variable       0\n",
       "weekly_rollingavg     0\n",
       "weekly_std            0\n",
       "daily_std             0\n",
       "weekly_varience       0\n",
       "daily_varience        0\n",
       "weekly_median         0\n",
       "daily_meadian         0\n",
       "48_hour_mean          0\n",
       "48_hour_variance      0\n",
       "48_hour_std           0\n",
       "72_hour_mean          0\n",
       "72_hour_variance      0\n",
       "72_hour_std           0\n",
       "12_hours_temp_mean    0\n",
       "24_hour_temp_mean     0\n",
       "12_hours_temp_std     0\n",
       "24_hour_temp_std      0\n",
       "12_hours_temp_var     0\n",
       "24_hour_temp_var      0\n",
       "dtype: int64"
      ]
     },
     "execution_count": 9,
     "metadata": {},
     "output_type": "execute_result"
    }
   ],
   "source": [
    "count=0\n",
    "for i in dataset_new.isnull().sum(axis=1):\n",
    "    if i>0:\n",
    "        count=count+1\n",
    "print('Total number of rows with missing values is ', count)\n",
    "#print('Since it is only',round((count/len(dataset.index))*100), 'percent of the entire dataset the rows with missing values are excluded.')\n",
    "dataset_new.isnull().sum()"
   ]
  },
  {
   "cell_type": "markdown",
   "metadata": {
    "id": "7HfiTr-QWNs8"
   },
   "source": [
    "# Check the shape of the current dataset"
   ]
  },
  {
   "cell_type": "code",
   "execution_count": 10,
   "metadata": {
    "id": "QEmy2qTgWNs8"
   },
   "outputs": [
    {
     "name": "stdout",
     "output_type": "stream",
     "text": [
      "The shape of the dataset: (49833, 28)\n"
     ]
    }
   ],
   "source": [
    "print('The shape of the dataset:', dataset_new.shape)\n",
    "\n",
    "# out of 28, 27 are the input variables which includes the statisitcal and contextual features\n",
    "\n",
    "# the target value is the \"target_variable\" which is predicted using machine learning\n",
    "\n",
    "# The 'target_variable' is the actual hourly load on substation level."
   ]
  },
  {
   "cell_type": "markdown",
   "metadata": {
    "id": "1BWwSaImWNs8"
   },
   "source": [
    "# Preparing the Input and target values for model training"
   ]
  },
  {
   "cell_type": "code",
   "execution_count": 11,
   "metadata": {
    "id": "oLC4oJRhWNs8"
   },
   "outputs": [
    {
     "name": "stdout",
     "output_type": "stream",
     "text": [
      "Shape of the Input data: (49833, 27)\n",
      "Shape of the target variable: (49833,)\n",
      "Data type of the input features: float64\n"
     ]
    }
   ],
   "source": [
    "# Seperating the input and target variables for and converting them into numpy array.\n",
    "\n",
    "\n",
    "\n",
    "input_features = np.array(dataset_new.drop('target_variable', axis=1))         # Features\n",
    "target_values = np.array(dataset_new['target_variable'])                       # Output\n",
    "\n",
    "\n",
    "print('Shape of the Input data:', input_features.shape)\n",
    "print('Shape of the target variable:', target_values.shape)\n",
    "\n",
    "\n",
    "print('Data type of the input features:', input_features.dtype)"
   ]
  },
  {
   "cell_type": "markdown",
   "metadata": {
    "id": "UEpvnWL6WNs8"
   },
   "source": [
    " ## One feature Regression Model\n"
   ]
  },
  {
   "cell_type": "markdown",
   "metadata": {
    "id": "Dh7OGy5aWNs9"
   },
   "source": [
    "## Predict `y` using a single feature of `x`"
   ]
  },
  {
   "cell_type": "markdown",
   "metadata": {
    "id": "z7jAQAwTWNs9"
   },
   "source": [
    "Here we define a function, **one_feature_regression**, that takes `x` and `y`, along with the index `f` of a single feature and fits a linear regressor to `(x[f],y)`. It then plots the data along with the resulting line."
   ]
  },
  {
   "cell_type": "code",
   "execution_count": 12,
   "metadata": {
    "id": "GIXDm49eWNs9"
   },
   "outputs": [],
   "source": [
    "def one_feature_regression(x,y,f):\n",
    "\n",
    "    '''\n",
    "    x -> one inpu feature\n",
    "\n",
    "    y -> Target value\n",
    "\n",
    "    f -> index of feature\n",
    "    '''\n",
    "\n",
    "\n",
    "    if (f < 0) or (f > 26):            # Because the total number of features in this dataset are 27\n",
    "        print(\"Feature index is out of bounds\")\n",
    "        return\n",
    "    regr = linear_model.LinearRegression()          # simple linear regressing model y=mx + c  where y output, x input, m slope, c intesecpt.\n",
    "    x1 = x[:,[f]]\n",
    "    regr.fit(x1, y)\n",
    "    # Make predictions using the model\n",
    "    y_pred = regr.predict(x1)\n",
    "    # Plot data points as well as predictions\n",
    "    plt.plot(x1, y, 'bo')\n",
    "    plt.plot(x1, y_pred, 'r-', linewidth=3)\n",
    "    plt.xlabel(features[f], fontsize=14)\n",
    "    plt.ylabel('Load Progression', fontsize=14)\n",
    "    plt.show()\n",
    "    print(\"Mean squared error: \", mean_squared_error(y, y_pred))     # Loss function which will be reduced using machine learning\n",
    "    print('Mean Absolute Percentage Errror', mean_absolute_percentage_error(y, y_pred)*100)\n",
    "    return regr"
   ]
  },
  {
   "cell_type": "markdown",
   "metadata": {
    "id": "911XMWuhWNs9"
   },
   "source": [
    "### (a) You have been given one_feature_regression function. Please change the index f to change the feature and develop a regression model. Compute the MSE, w, and b? (b)."
   ]
  },
  {
   "cell_type": "code",
   "execution_count": 13,
   "metadata": {
    "id": "AqgNV7GYWNs9"
   },
   "outputs": [
    {
     "data": {
      "image/png": "[encoded data removed]",
      "text/plain": [
       "<Figure size 640x480 with 1 Axes>"
      ]
     },
     "metadata": {},
     "output_type": "display_data"
    },
    {
     "name": "stdout",
     "output_type": "stream",
     "text": [
      "Mean squared error:  6059032.55740701\n",
      "Mean Absolute Percentage Errror 14.965036376912133\n",
      "Weights is %f, and Bais is %f (array([0.95813537]), 632.8332119539155)\n"
     ]
    }
   ],
   "source": [
    "# In the given example we are using the feature number 7 to train the regression model\n",
    "\n",
    "OneF_reg = one_feature_regression(input_features,target_values,7)    # Fearure is prev24HrAvgLoad\n",
    "\n",
    "\n",
    "w = OneF_reg.coef_\n",
    "b = OneF_reg.intercept_\n",
    "\n",
    "# Weights of regress\n",
    "\n",
    "print('Weights is %f, and Bais is %f', (w, b))    # 1 feature: 1 weight\n",
    "\n",
    "# This function provides the single feature regress along with the value of loss and MAPE. \n",
    "# The x-axis give the name of feature used for regression.\n",
    "\n",
    "\n",
    "# Find the one feature with mininmim MSE or MAPE. (Hint: simply substitute the f index in the above function calling."
   ]
  },
  {
   "cell_type": "markdown",
   "metadata": {
    "id": "DW5pG3rKWNs9",
    "tags": []
   },
   "source": [
    "### (b) Identify the second-best feature with the lowest MSE."
   ]
  },
  {
   "cell_type": "markdown",
   "metadata": {
    "id": "YItbJjYEWNs9"
   },
   "source": [
    "## Subset feature Regression Model"
   ]
  },
  {
   "cell_type": "markdown",
   "metadata": {
    "id": "5T2N6jCjWNs9"
   },
   "source": [
    "##  Predict `y` using a specified subset of features from `x`"
   ]
  },
  {
   "cell_type": "markdown",
   "metadata": {
    "id": "I2RFmpEqWNs9"
   },
   "source": [
    "The function **feature_subset_regression** is just like **one_feature_regression**, but this time uses a list of features `flist`."
   ]
  },
  {
   "cell_type": "code",
   "execution_count": 14,
   "metadata": {
    "id": "_-5--C33WNs-"
   },
   "outputs": [],
   "source": [
    "def feature_subset_regression(x,y,flist):\n",
    "\n",
    "    '''\n",
    "    x -> input features\n",
    "    y -> target values\n",
    "\n",
    "    flist -> subset of feature for model training: pass list of the feature intex  [6,7] for feature number 7 and 8\n",
    "    '''\n",
    "\n",
    "\n",
    "    if len(flist) < 1:\n",
    "        print(\"Need at least one feature\")\n",
    "        return\n",
    "    for f in flist:\n",
    "        if (f < 0) or (f > 26):\n",
    "            print(\"Feature index is out of bounds\")\n",
    "            return\n",
    "    regr = linear_model.LinearRegression()\n",
    "    x1 = x[:,flist]\n",
    "    regr.fit(x1, y)\n",
    "    # Make predictions using the model\n",
    "    y_pred = regr.predict(x1)\n",
    "\n",
    "    print(\"Mean squared error: \", mean_squared_error(y, y_pred))\n",
    "    print('Mean Absolute Percentage Errror', mean_absolute_percentage_error(y, y_pred)*100)\n",
    "    return regr"
   ]
  },
  {
   "cell_type": "markdown",
   "metadata": {
    "id": "_GtAt-OvWNs-"
   },
   "source": [
    "### (a) Using the *feature_subset_regression*, find out the model performance in terms of MSE using features #7 (P_D_S_hour_l) and #8 (prev24HrAveLoad)?"
   ]
  },
  {
   "cell_type": "code",
   "execution_count": 15,
   "metadata": {
    "id": "xMKFHYSHWNs-"
   },
   "outputs": [
    {
     "name": "stdout",
     "output_type": "stream",
     "text": [
      "Mean squared error:  976633.829681334\n",
      "Mean Absolute Percentage Errror 4.686824201868077\n",
      "Weights is %f, and Bais is %f (array([ 0.46314764,  0.46278269,  0.4967366 , -0.43293858]), 153.74834792063848)\n"
     ]
    }
   ],
   "source": [
    "# In this example we will use the feature number 6,7,8,9 and for regressing\n",
    "\n",
    "\n",
    "mul_f = feature_subset_regression(input_features, target_values, [5,6,7,8])   # rememeber index starts for 0\n",
    "\n",
    "# With multiple feature feature the loss function starts to decrease. \n",
    "\n",
    "\n",
    "w = mul_f.coef_\n",
    "b = mul_f.intercept_\n",
    "\n",
    "# Weights of regress\n",
    "\n",
    "print('Weights is %f, and Bais is %f', (w, b))   # four feature four weights\n"
   ]
  },
  {
   "cell_type": "markdown",
   "metadata": {
    "id": "RWMxuRC1WNs-"
   },
   "source": [
    "### (b) Use all 27 Features for regression analysis and compare the model performance?"
   ]
  },
  {
   "cell_type": "code",
   "execution_count": 16,
   "metadata": {
    "id": "wgMcxkaCWNs-"
   },
   "outputs": [
    {
     "name": "stdout",
     "output_type": "stream",
     "text": [
      "Mean squared error:  571703.0910066342\n",
      "Mean Absolute Percentage Errror 3.7133539010423053\n",
      "Length Weights is %f, and Bais is %f (27, 459.17055824470117)\n",
      "---------------------------------------------\n",
      "Length Weights is %f, and Bais is %f (array([ 5.47517469e+00,  2.79352587e+00,  1.31950104e+01, -1.34976706e+02,\n",
      "        3.10126259e+02,  3.11938564e-01,  6.13882061e-01,  2.12141814e+00,\n",
      "       -7.92006807e-01,  9.27027003e-01, -1.37502132e+00, -1.11466140e-04,\n",
      "        1.80822147e-04,  2.39789257e-01, -4.21593458e-01, -2.18867246e+00,\n",
      "        2.28940787e-05, -2.40510820e-01,  1.08456377e+00, -1.14094287e-04,\n",
      "        8.33604110e-01, -2.40569026e+00, -8.39153318e-01,  1.09890381e+01,\n",
      "       -6.82829486e+01, -6.47684918e-01,  6.13644298e+00]), 459.17055824470117)\n"
     ]
    }
   ],
   "source": [
    "# Using all features for regression\n",
    "\n",
    "feature_list = [i for i in range(27)]\n",
    "\n",
    "reg = feature_subset_regression(input_features, target_values, feature_list)\n",
    "\n",
    "\n",
    "w = reg.coef_\n",
    "b = reg.intercept_\n",
    "\n",
    "# Weights of regress\n",
    "\n",
    "print('Length Weights is %f, and Bais is %f', (len(w), b))   # 27 feature four weights\n",
    "\n",
    "print('---------------------------------------------')\n",
    "\n",
    "print('Length Weights is %f, and Bais is %f', (w, b))\n"
   ]
  },
  {
   "cell_type": "markdown",
   "metadata": {
    "id": "A7sTLqV-WNs-",
    "tags": []
   },
   "source": [
    "## Finding the best Train-Test Data Split\n"
   ]
  },
  {
   "cell_type": "markdown",
   "metadata": {
    "id": "29Cj6yC_WNs-"
   },
   "source": [
    "## Splitting the data into a training and test set"
   ]
  },
  {
   "cell_type": "markdown",
   "metadata": {
    "id": "hWiPMvtyWNs-"
   },
   "source": [
    "In the experiments above, every model was fit to the *entire* data set and its mean squared error was evaluated on this same data set. This methodology would not, in general, yield accurate estimates of future error. In this specific case, however, the discrepancy might not be too bad because the data set is quite large relative to the number of features."
   ]
  },
  {
   "cell_type": "markdown",
   "metadata": {
    "id": "rSfciGfdWNs-"
   },
   "source": [
    "To investigate this further, we define a procedure **split_data** that partitions the data set into separate training and test sets. It is invoked as follows:\n",
    "\n",
    "* `trainx, trainy, testx, testy = split_data(n_train)`\n",
    "\n",
    "Here:\n",
    "* `n_train` is the desired number of training points\n",
    "* `trainx` and `trainy` are the training points and response values\n",
    "* `testx` and `testy` are the test points and response values\n",
    "\n",
    "The split is done randomly, but the random seed is fixed, and thus the same split is produced if the procedure is called repeatedly with the same `n_train` parameter."
   ]
  },
  {
   "cell_type": "code",
   "execution_count": 17,
   "metadata": {
    "id": "Q0cwQ8U5WNs_"
   },
   "outputs": [],
   "source": [
    "def split_data(n_train):\n",
    "    if (n_train < 0) or (n_train > 48000):\n",
    "        print(\"Invalid number of training points\")\n",
    "        return\n",
    "    np.random.seed(0)\n",
    "    perm = np.random.permutation(48000)\n",
    "    training_indices = perm[range(0,n_train)]\n",
    "    test_indices = perm[range(n_train,48000)]\n",
    "    trainx = input_features[training_indices,:]\n",
    "    trainy = target_values[training_indices]\n",
    "    testx = input_features[test_indices,:]\n",
    "    testy = target_values[test_indices]\n",
    "    return trainx, trainy, testx, testy"
   ]
  },
  {
   "cell_type": "markdown",
   "metadata": {
    "id": "Fzr_fUJyWNs_"
   },
   "source": [
    "### (a)  Using the **split_data** procedure to partition the data set, compute the training MSE and test MSE when fitting a regressor to *all* features, for the following training set sizes:\n",
    "* `n_train = 20000`\n",
    "* `n_train = 25000`\n",
    "* `n_train = 30000`\n",
    "* `n_train = 40000`"
   ]
  },
  {
   "cell_type": "code",
   "execution_count": 18,
   "metadata": {
    "id": "mQpX_OTOWNs_"
   },
   "outputs": [
    {
     "name": "stdout",
     "output_type": "stream",
     "text": [
      "For Training size=%d, the test MSE is :%f, and MAPE is :%f 40000 555848.7090240052 3.6853708381813988\n"
     ]
    }
   ],
   "source": [
    "n_train = 40000\n",
    "\n",
    "# splitting the data\n",
    "xtrain, ytrain, xtest, ytest =split_data(n_train)\n",
    "\n",
    "# Generating the model\n",
    "reg = linear_model.LinearRegression()\n",
    "\n",
    "# Model training\n",
    "reg.fit(xtrain, ytrain)\n",
    "\n",
    "# Prediction\n",
    "\n",
    "y_pred = reg.predict(xtest)\n",
    "\n",
    "# MSE\n",
    "mse = mean_squared_error(ytest, y_pred)\n",
    "MAPE = mean_absolute_percentage_error(ytest, y_pred)*100\n",
    "\n",
    "print('For Training size=%d, the test MSE is :%f, and MAPE is :%f', n_train, mse, MAPE)\n",
    "\n",
    "\n",
    "# You can change the values of n_train and see the impact on MSE and MAPE"
   ]
  },
  {
   "cell_type": "markdown",
   "metadata": {
    "id": "gEE9mBz0WNs_"
   },
   "source": [
    "### (b) What is the impact of increasing the training size on the performance of the model?\n"
   ]
  },
  {
   "cell_type": "markdown",
   "metadata": {
    "id": "3NkX4JidWNs_"
   },
   "source": [
    "## Data Normalisation"
   ]
  },
  {
   "cell_type": "markdown",
   "metadata": {
    "id": "JMYSW3wzWNs_"
   },
   "source": [
    "###  (a) Apply Min-Max feature scaling to normalize the data and caluclate the MSE and MAPE on features"
   ]
  },
  {
   "cell_type": "code",
   "execution_count": 19,
   "metadata": {
    "id": "WiKPozFqWNs_"
   },
   "outputs": [
    {
     "name": "stdout",
     "output_type": "stream",
     "text": [
      "Mean squared error:  571703.0910066342\n",
      "Mean Absolute Percentage Errror 3.713353901031772\n"
     ]
    }
   ],
   "source": [
    "from sklearn.preprocessing import MinMaxScaler\n",
    "scaler = MinMaxScaler()\n",
    "x_scaled=scaler.fit_transform(input_features)\n",
    "\n",
    "\n",
    "\n",
    "# training the model using scaled features\n",
    "\n",
    "reg_scaled = feature_subset_regression(x_scaled, target_values, feature_list) \n",
    "\n",
    "# function defined previously for using subset and all features for regression.\n",
    "\n"
   ]
  },
  {
   "cell_type": "markdown",
   "metadata": {
    "id": "w4MNqIvkWNs_"
   },
   "source": [
    "## Comparing Decision-Tree Versus Random Forest Regression Algorithms"
   ]
  },
  {
   "cell_type": "markdown",
   "metadata": {
    "id": "hTL6yz2NWNs_"
   },
   "source": [
    "### (a) Use test train split to divide the dataset in 70-30 and applying the decision tree and Random forest algorithms using sklearn library"
   ]
  },
  {
   "cell_type": "markdown",
   "metadata": {
    "id": "3K5EFJzvWNs_"
   },
   "source": [
    "Find the MSE and MAPE for both decision tree and random forest and compare it with linear regression and Plot the actual and predicted results of first 168 hours (weekly plot)"
   ]
  },
  {
   "cell_type": "code",
   "execution_count": 20,
   "metadata": {
    "id": "TDlAHeiXWNtA"
   },
   "outputs": [],
   "source": [
    "# Importing the libraries for decision tree and random forest for sklearn\n",
    "\n",
    "from sklearn.tree import DecisionTreeRegressor  \n",
    "from sklearn.ensemble import RandomForestRegressor\n",
    "import time"
   ]
  },
  {
   "cell_type": "markdown",
   "metadata": {
    "id": "Krn2-PmtWNtA"
   },
   "source": [
    "# Decision Tree Using sklearn"
   ]
  },
  {
   "cell_type": "code",
   "execution_count": 21,
   "metadata": {
    "id": "6KJZdTzDWNtA"
   },
   "outputs": [],
   "source": [
    "# Creating the test train split using sklearn library\n",
    "\n",
    "# split is kept 70 - 30\n",
    "\n",
    "# the data is not shaffled\n",
    "\n",
    "x_train, x_test, y_train, y_test = train_test_split(input_features,target_values, test_size=0.3, \n",
    "                                                        random_state=42, shuffle=False)  "
   ]
  },
  {
   "cell_type": "code",
   "execution_count": 22,
   "metadata": {
    "id": "nRI1bs96WNtA"
   },
   "outputs": [
    {
     "name": "stdout",
     "output_type": "stream",
     "text": [
      "Model Performance\n",
      "-----------------------------------------------------------\n",
      "Decision Tree convergence time in seconds: 1.5437023639678955\n",
      "-----------------------------------------------------------\n",
      "MSE: 455602.34280936455\n",
      "MAPE: 3.1657550520363333\n"
     ]
    }
   ],
   "source": [
    "'''\n",
    "DecisionTreeRegressor(*, criterion='squared_error', splitter='best', max_depth=None, min_samples_split=2, \n",
    "                        min_samples_leaf=1, min_weight_fraction_leaf=0.0, \n",
    "                        max_features=None, random_state=None, max_leaf_nodes=None, \n",
    "                        min_impurity_decrease=0.0, ccp_alpha=0.0)\n",
    "\n",
    "'''\n",
    "\n",
    "# creating a DF using the default parameters\n",
    "\n",
    "DT = DecisionTreeRegressor()    # Change parameter, write the parameter name and values in the function called\n",
    "\n",
    "# Model training\n",
    "\n",
    "start = time.time()\n",
    "DT = DT.fit(x_train, y_train)\n",
    "stop = time.time()\n",
    "\n",
    "dt_time = stop-start\n",
    "\n",
    "# model prediction\n",
    "\n",
    "y_pred_dt = DT.predict(x_test)\n",
    "\n",
    "# model evaluation\n",
    "\n",
    "print('Model Performance')\n",
    "\n",
    "print('-----------------------------------------------------------')\n",
    "\n",
    "print('Decision Tree convergence time in seconds:', dt_time)\n",
    "\n",
    "print('-----------------------------------------------------------')\n",
    "\n",
    "print('MSE:', mean_squared_error(y_test, y_pred_dt))\n",
    "print('MAPE:', mean_absolute_percentage_error(y_test, y_pred_dt)*100)\n",
    "\n"
   ]
  },
  {
   "cell_type": "markdown",
   "metadata": {
    "id": "oAUTNZacWNtA"
   },
   "source": [
    "To further optimise the model and improve performance, the parameters of the model are change.\n",
    "\n",
    "The process of obtaining the optimal model parameter is termed as hyperparameter tuning."
   ]
  },
  {
   "cell_type": "markdown",
   "metadata": {
    "id": "PKSAqVLvWNtA"
   },
   "source": [
    "# Weekly Plot of Decision Tree "
   ]
  },
  {
   "cell_type": "code",
   "execution_count": 23,
   "metadata": {
    "id": "H0Op9XPHWNtA"
   },
   "outputs": [
    {
     "data": {
      "image/png": "[encoded data removed]",
      "text/plain": [
       "<Figure size 640x480 with 1 Axes>"
      ]
     },
     "metadata": {},
     "output_type": "display_data"
    }
   ],
   "source": [
    "# Plot the the results of actual vs predicted values\n",
    "\n",
    "plt.plot(y_test[1800:1968], 'b--', label='Actual')\n",
    "plt.plot(y_pred_dt[1800:1968], 'r-', label='Predicted')\n",
    "plt.title('Decision Tree Results')\n",
    "plt.xlabel('Hourly Time')\n",
    "plt.ylabel('Load in MW')\n",
    "\n",
    "plt.legend(loc='upper left')\n",
    "\n",
    "figsize=(20,16)"
   ]
  },
  {
   "cell_type": "markdown",
   "metadata": {
    "id": "gQwjNTnXWNtA"
   },
   "source": [
    "# Random Forest Using Sklearn"
   ]
  },
  {
   "cell_type": "code",
   "execution_count": 24,
   "metadata": {
    "id": "EajDUtxZWNtA"
   },
   "outputs": [
    {
     "name": "stdout",
     "output_type": "stream",
     "text": [
      "Model Performance\n",
      "-----------------------------------------------------------\n",
      "Random Forest Convergence time in seconds: 95.51594567298889\n",
      "-----------------------------------------------------------\n",
      "MSE: 172229.8655757115\n",
      "MAPE: 2.0335715021037366\n"
     ]
    }
   ],
   "source": [
    "''' \n",
    "RandomForestRegressor(n_estimators=100, *, criterion='squared_error', max_depth=None, min_samples_split=2, \n",
    "                    min_samples_leaf=1, min_weight_fraction_leaf=0.0, max_features=1.0, max_leaf_nodes=None, \n",
    "                    min_impurity_decrease=0.0, bootstrap=True, oob_score=False, n_jobs=None, random_state=None, \n",
    "                    verbose=0, warm_start=False, ccp_alpha=0.0, max_samples=None)\n",
    "'''\n",
    "\n",
    "\n",
    "# Parameters for random forest classifier\n",
    "# In this case, instead of using the default parameter, some of the parameter are been changed\n",
    "# Further, the parameter tuning is done using either grid search, random search or other techniques\n",
    "\n",
    "\n",
    "from random import random\n",
    "from tkinter import N\n",
    "from sklearn.ensemble import RandomForestRegressor\n",
    "\n",
    "\n",
    "# create the model\n",
    "\n",
    "rf = RandomForestRegressor(n_estimators=200, max_depth=30, n_jobs=-1, random_state=42)\n",
    "\n",
    "# train the model\n",
    "\n",
    "start = time.time()\n",
    "\n",
    "rf.fit(x_train, y_train)\n",
    "\n",
    "stop = time.time()\n",
    "\n",
    "rf_time = stop-start\n",
    "# model predction\n",
    "\n",
    "y_pred_rf = rf.predict(x_test)\n",
    "\n",
    "\n",
    "\n",
    "# model evaluation\n",
    "\n",
    "print('Model Performance')\n",
    "\n",
    "print('-----------------------------------------------------------')\n",
    "\n",
    "print('Random Forest Convergence time in seconds:', rf_time)\n",
    "\n",
    "print('-----------------------------------------------------------')\n",
    "\n",
    "print('MSE:', mean_squared_error(y_test, y_pred_rf))\n",
    "print('MAPE:', mean_absolute_percentage_error(y_test, y_pred_rf)*100)\n"
   ]
  },
  {
   "cell_type": "code",
   "execution_count": 25,
   "metadata": {
    "id": "M8EyfTI8WNtA"
   },
   "outputs": [
    {
     "data": {
      "image/png": "[encoded data removed]",
      "text/plain": [
       "<Figure size 640x480 with 1 Axes>"
      ]
     },
     "metadata": {},
     "output_type": "display_data"
    }
   ],
   "source": [
    "# Plot the the results of actual vs predicted values\n",
    "\n",
    "plt.plot(y_test[1800:1968], 'b--', label='Actual')\n",
    "plt.plot(y_pred_rf[1800:1968], 'r-', label='Predicted')\n",
    "plt.title('Random Forest Results')\n",
    "plt.xlabel('Hourly Time')\n",
    "plt.ylabel('Load in MW')\n",
    "\n",
    "plt.legend(loc='upper left')\n",
    "\n",
    "figsize=(20,16)"
   ]
  },
  {
   "cell_type": "markdown",
   "metadata": {
    "id": "QSVAPaAEWNtB"
   },
   "source": [
    "For the above results, it is clearly evident that Random Forest performs better the DT and Linear Regression of this particular problem. \n",
    "\n",
    "The original dataset is expended to obtain 27 feature vecotors and analysis is done. Using linear regression, a short investigation is done on \n",
    "the impact of different feature set on the performace of model\n",
    "\n",
    "Decision Tress and Random Forest models are trained and evaluated using the 27 feature and results shows the performace of RF is better then DT.\n",
    "\n",
    "\n",
    "However, in machine learning the input feature set has a huge impact on the performance of the model. Therefore, we will perform an analysis on the\n",
    "feature importance and overall impact on the model performmance. Further, will smaller feature set the model convergence can be reduced."
   ]
  },
  {
   "cell_type": "code",
   "execution_count": null,
   "metadata": {
    "id": "3X9aoO9LWNtB"
   },
   "outputs": [],
   "source": []
  }
 ],
 "metadata": {
  "colab": {
   "provenance": []
  },
  "kernelspec": {
   "display_name": "Python 3 (ipykernel)",
   "language": "python",
   "name": "python3"
  },
  "language_info": {
   "codemirror_mode": {
    "name": "ipython",
    "version": 3
   },
   "file_extension": ".py",
   "mimetype": "text/x-python",
   "name": "python",
   "nbconvert_exporter": "python",
   "pygments_lexer": "ipython3",
   "version": "3.7.12"
  },
  "vscode": {
   "interpreter": {
    "hash": "79fe433a8f88862a0a17970d6b2d3889ffdc46c96c7e93a37f3e8b4e3c05eef0"
   }
  }
 },
 "nbformat": 4,
 "nbformat_minor": 4
}
